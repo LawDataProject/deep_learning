{
 "cells": [
  {
   "cell_type": "markdown",
   "metadata": {
    "collapsed": true
   },
   "source": [
    "# Keras LSTM Tutorial on IMDB Sentiment Analysis with Theano Backend "
   ]
  },
  {
   "cell_type": "markdown",
   "metadata": {
    "collapsed": true
   },
   "source": [
    "Keras is available at https://github.com/fchollet/keras\n",
    "This code is available here (https://github.com/fchollet/keras/blob/master/keras/datasets/imdb.py).\n",
    "I made some changes to the code to be able to load the data easily and so I also removed some of the original code that is not needed here.\n",
    "The LSTM code is available here (https://github.com/fchollet/keras/blob/master/examples/imdb_lstm.py).\n",
    "Play with the code to get a good grasp of it."
   ]
  },
  {
   "cell_type": "code",
   "execution_count": 1,
   "metadata": {
    "collapsed": false
   },
   "outputs": [
    {
     "name": "stdout",
     "output_type": "stream",
     "text": [
      "Using Theano backend.\n"
     ]
    },
    {
     "name": "stderr",
     "output_type": "stream",
     "text": [
      "Using gpu device 0: GeForce GT 750M\n"
     ]
    }
   ],
   "source": [
    "from keras.models import Sequential"
   ]
  },
  {
   "cell_type": "code",
   "execution_count": 2,
   "metadata": {
    "collapsed": true
   },
   "outputs": [],
   "source": [
    "model = Sequential()"
   ]
  },
  {
   "cell_type": "code",
   "execution_count": 7,
   "metadata": {
    "collapsed": false
   },
   "outputs": [
    {
     "name": "stdout",
     "output_type": "stream",
     "text": [
      "[1018, 94, 18493, 46, 37, 4271, 31, 17, 25, 20]\n",
      "1\n",
      "[480, 2, 29, 665, 28, 440, 3, 17, 203, 8]\n",
      "0\n",
      "<type 'tuple'>\n"
     ]
    }
   ],
   "source": [
    "import os\n",
    "from collections import namedtuple, defaultdict\n",
    "from random import shuffle, randint\n",
    "#----------------------------------------------------\n",
    "__docformat__ = 'restructedtext en'\n",
    "\n",
    "import cPickle\n",
    "import gzip\n",
    "import os\n",
    "import sys\n",
    "import timeit\n",
    "\n",
    "import numpy\n",
    "import numpy as np\n",
    "import theano\n",
    "import theano.tensor as T\n",
    "\n",
    "def get_dataset_file(dataset, default_dataset, origin):\n",
    "    '''Look for it as if it was a full path, if not, try local file,\n",
    "    if not try in the data directory.\n",
    "\n",
    "    Download dataset if it is not present\n",
    "\n",
    "    '''\n",
    "    data_dir, data_file = os.path.split(dataset)\n",
    "#     if data_dir == \"\" and not os.path.isfile(dataset):\n",
    "#         # Check if dataset is in the data directory.\n",
    "#         new_path = os.path.join(\n",
    "#             os.path.split(__file__)[0],\n",
    "#             \"..\",\n",
    "#             \"data\",\n",
    "#             dataset\n",
    "#         )\n",
    "#         if os.path.isfile(new_path) or data_file == default_dataset:\n",
    "#             dataset = new_path\n",
    "\n",
    "    if (not os.path.isfile(dataset)) and data_file == default_dataset:\n",
    "        import urllib\n",
    "        #print 'Downloading data from %s' % origin\n",
    "        urllib.urlretrieve(origin, dataset)\n",
    "    return dataset\n",
    "\n",
    "\n",
    "\n",
    "def load_data(path=\"imdb.pkl\", n_words=10000, valid_portion=0.1, maxlen=None,\n",
    "              sort_by_len=True):\n",
    "    '''Loads the dataset\n",
    "\n",
    "    :type path: String\n",
    "    :param path: The path to the dataset (here IMDB)\n",
    "    :type n_words: int\n",
    "    :param n_words: The number of word to keep in the vocabulary.\n",
    "        All extra words are set to unknow (1).\n",
    "    :type valid_portion: float\n",
    "    :param valid_portion: The proportion of the full train set used for\n",
    "        the validation set.\n",
    "    :type maxlen: None or positive int\n",
    "    :param maxlen: the max sequence length we use in the train/valid set.\n",
    "    :type sort_by_len: bool\n",
    "    :name sort_by_len: Sort by the sequence lenght for the train,\n",
    "        valid and test set. This allow faster execution as it cause\n",
    "        less padding per minibatch. Another mechanism must be used to\n",
    "        shuffle the train set at each epoch.\n",
    "\n",
    "    '''\n",
    "\n",
    "    #############\n",
    "    # LOAD DATA #\n",
    "    #############\n",
    "\n",
    "    # Load the dataset\n",
    "    path = get_dataset_file(\n",
    "        path, \"imdb.pkl\",\n",
    "        \"http://www.iro.umontreal.ca/~lisa/deep/data/imdb.pkl\")\n",
    "\n",
    "    if path.endswith(\".gz\"):\n",
    "        f = gzip.open(path, 'rb')\n",
    "    else:\n",
    "        f = open(path, 'rb')\n",
    "\n",
    "    train_set = cPickle.load(f)\n",
    "    print(train_set[0][1][:10]), print(train_set[1][1])\n",
    "    print(train_set[0][-1][:10]), print(train_set[1][-1])\n",
    "    #test_set = cPickle.load(f)\n",
    "    f.close()\n",
    "    if maxlen:\n",
    "        new_train_set_x = []\n",
    "        new_train_set_y = []\n",
    "        for x, y in zip(train_set[0], train_set[1]):\n",
    "            if len(x) < maxlen:\n",
    "                new_train_set_x.append(x)\n",
    "                new_train_set_y.append(y)\n",
    "        train_set = (new_train_set_x, new_train_set_y)\n",
    "        del new_train_set_x, new_train_set_y\n",
    "\n",
    "    # split training set into validation set\n",
    "    train_set_x, train_set_y = train_set\n",
    "    n_samples = len(train_set_x)\n",
    "    sidx = numpy.random.permutation(n_samples)\n",
    "    n_train = int(numpy.round(n_samples * (1. - valid_portion)))\n",
    "    valid_set_x = [train_set_x[s] for s in sidx[n_train:]]\n",
    "    valid_set_y = [train_set_y[s] for s in sidx[n_train:]]\n",
    "    train_set_x = [train_set_x[s] for s in sidx[:n_train]]\n",
    "    train_set_y = [train_set_y[s] for s in sidx[:n_train]]\n",
    "\n",
    "    train_set = (train_set_x, train_set_y)\n",
    "    valid_set = (valid_set_x, valid_set_y)\n",
    "\n",
    "    def remove_unk(x):\n",
    "        return [[1 if w >= n_words else w for w in sen] for sen in x]\n",
    "\n",
    "    #test_set_x, test_set_y = test_set\n",
    "    valid_set_x, valid_set_y = valid_set\n",
    "    train_set_x, train_set_y = train_set\n",
    "\n",
    "    train_set_x = remove_unk(train_set_x)\n",
    "    valid_set_x = remove_unk(valid_set_x)\n",
    "    #test_set_x = remove_unk(test_set_x)\n",
    "\n",
    "    def len_argsort(seq):\n",
    "        return sorted(range(len(seq)), key=lambda x: len(seq[x]))\n",
    "\n",
    "    if sort_by_len:\n",
    "        #sorted_index = len_argsort(test_set_x)\n",
    "        #test_set_x = [test_set_x[i] for i in sorted_index]\n",
    "        #test_set_y = [test_set_y[i] for i in sorted_index]\n",
    "\n",
    "        sorted_index = len_argsort(valid_set_x)\n",
    "        valid_set_x = [valid_set_x[i] for i in sorted_index]\n",
    "        valid_set_y = [valid_set_y[i] for i in sorted_index]\n",
    "\n",
    "        sorted_index = len_argsort(train_set_x)\n",
    "        train_set_x = [train_set_x[i] for i in sorted_index]\n",
    "        train_set_y = [train_set_y[i] for i in sorted_index]\n",
    "\n",
    "    train = (train_set_x, train_set_y)\n",
    "    valid = (valid_set_x, valid_set_y)\n",
    "    #test = (test_set_x, test_set_y)\n",
    "\n",
    "    return train, valid#, test\n",
    "\n",
    "train, valid= load_data(path=\"imdb.pkl\", n_words=10000, valid_portion=0.1, maxlen=None,\n",
    "              sort_by_len=True)\n",
    "print(type(train))\n"
   ]
  },
  {
   "cell_type": "code",
   "execution_count": 8,
   "metadata": {
    "collapsed": false
   },
   "outputs": [
    {
     "name": "stdout",
     "output_type": "stream",
     "text": [
      "[[17, 25, 10, 406, 26, 14, 56, 61, 62, 323, 4],\n",
      " [16, 586, 32, 885, 17, 39, 68, 31, 2994, 2389, 328, 4],\n",
      " [1, 2, 1, 139, 6, 130, 1, 5, 6, 25, 105, 4730, 40]]\n",
      "[0, 0, 0, 1, 0]\n"
     ]
    }
   ],
   "source": [
    "import pprint\n",
    "pprint.pprint(train[0][0:3])\n",
    "pprint.pprint(train[1][0:5])"
   ]
  },
  {
   "cell_type": "code",
   "execution_count": 23,
   "metadata": {
    "collapsed": false
   },
   "outputs": [
    {
     "name": "stdout",
     "output_type": "stream",
     "text": [
      "Loading data...\n",
      "<type 'int'>\n",
      "<type 'int'>\n",
      "22500 train sequences\n",
      "2500 test sequences\n",
      "Pad sequences (samples x time)\n",
      "X_train shape: (22500, 100)\n",
      "X_test shape: (2500, 100)\n",
      "Build model...\n",
      "Train...\n",
      "Train on 22500 samples, validate on 2500 samples\n",
      "Epoch 1/3\n",
      "22500/22500 [==============================] - 277s - loss: 0.4499 - acc: 0.7872 - val_loss: 0.3649 - val_acc: 0.8276\n",
      "Epoch 2/3\n",
      "22500/22500 [==============================] - 273s - loss: 0.2907 - acc: 0.8844 - val_loss: 0.3951 - val_acc: 0.8332\n",
      "Epoch 3/3\n",
      "22500/22500 [==============================] - 268s - loss: 0.2052 - acc: 0.9230 - val_loss: 0.4417 - val_acc: 0.8360\n",
      "2500/2500 [==============================] - 3s     \n",
      "Test score: 0.441658455276\n",
      "Test accuracy: 0.836\n"
     ]
    }
   ],
   "source": [
    "'''Train a LSTM on the IMDB sentiment classification task.\n",
    "The dataset is actually too small for LSTM to be of any advantage\n",
    "compared to simpler, much faster methods such as TF-IDF+LogReg.\n",
    "Notes:\n",
    "- RNNs are tricky. Choice of batch size is important,\n",
    "choice of loss and optimizer is critical, etc.\n",
    "Some configurations won't converge.\n",
    "- LSTM loss decrease patterns during training can be quite different\n",
    "from what you see with CNNs/MLPs/etc.\n",
    "GPU command:\n",
    "    THEANO_FLAGS=mode=FAST_RUN,device=gpu,floatX=float32 python imdb_lstm.py\n",
    "'''\n",
    "\n",
    "from __future__ import print_function\n",
    "import numpy as np\n",
    "np.random.seed(1337)  # for reproducibility\n",
    "\n",
    "from keras.preprocessing import sequence\n",
    "from keras.utils import np_utils\n",
    "from keras.models import Sequential\n",
    "from keras.layers.core import Dense, Dropout, Activation\n",
    "from keras.layers.embeddings import Embedding\n",
    "from keras.layers.recurrent import LSTM\n",
    "from keras.datasets import imdb\n",
    "\n",
    "max_features = 10000\n",
    "maxlen = 100  # cut texts after this number of words (among top max_features most common words)\n",
    "batch_size = 32\n",
    "\n",
    "print('Loading data...')\n",
    "#(X_train, y_train), (X_test, y_test) = imdb.load_data(nb_words=max_features,\n",
    " #                                                     test_split=0.2)\n",
    "\n",
    "X_train, y_train=train[0], train[1]\n",
    "print(type(X_train[0][0]))\n",
    "print(type(X_train[1][0]))\n",
    "\n",
    "X_test, y_test= valid[0], valid[1]\n",
    "\n",
    "#X_train, y_train = train_vecs, train_tags\n",
    "#X_test, y_test = dev_vecs, dev_tags#\n",
    "\n",
    "#test_vecs, test_tags\n",
    "\n",
    "print(len(X_train), 'train sequences')\n",
    "print(len(X_test), 'test sequences')\n",
    "\n",
    "print(\"Pad sequences (samples x time)\")\n",
    "X_train = sequence.pad_sequences(X_train, maxlen=maxlen)\n",
    "X_test = sequence.pad_sequences(X_test, maxlen=maxlen)\n",
    "print('X_train shape:', X_train.shape)\n",
    "print('X_test shape:', X_test.shape)\n",
    "\n",
    "print('Build model...')\n",
    "model = Sequential()\n",
    "model.add(Embedding(max_features, 128, input_length=maxlen))\n",
    "model.add(LSTM(128))  # try using a GRU instead, for fun\n",
    "model.add(Dropout(0.5))\n",
    "model.add(Dense(1))\n",
    "model.add(Activation('sigmoid'))\n",
    "\n",
    "# try using different optimizers and different optimizer configs\n",
    "model.compile(loss='binary_crossentropy',\n",
    "              optimizer='adam',\n",
    "              class_mode=\"binary\")\n",
    "\n",
    "print(\"Train...\")\n",
    "model.fit(X_train, y_train, batch_size=batch_size, nb_epoch=3,\n",
    "          validation_data=(X_test, y_test), show_accuracy=True)\n",
    "score, acc = model.evaluate(X_test, y_test,\n",
    "                            batch_size=batch_size,\n",
    "                            show_accuracy=True)\n",
    "print('Test score:', score)\n",
    "print('Test accuracy:', acc)"
   ]
  }
 ],
 "metadata": {
  "kernelspec": {
   "display_name": "Python 2",
   "language": "python",
   "name": "python2"
  },
  "language_info": {
   "codemirror_mode": {
    "name": "ipython",
    "version": 2
   },
   "file_extension": ".py",
   "mimetype": "text/x-python",
   "name": "python",
   "nbconvert_exporter": "python",
   "pygments_lexer": "ipython2",
   "version": "2.7.10"
  }
 },
 "nbformat": 4,
 "nbformat_minor": 0
}

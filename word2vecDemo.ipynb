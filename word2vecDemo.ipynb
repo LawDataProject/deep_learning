{
 "cells": [
  {
   "cell_type": "markdown",
   "metadata": {},
   "source": [
    "# word2vec Presentation"
   ]
  },
  {
   "cell_type": "code",
   "execution_count": 13,
   "metadata": {
    "collapsed": false
   },
   "outputs": [],
   "source": [
    "###################################\n",
    "#!usr/bin/python\n",
    "# -*- coding: utf-8 -*-\n",
    "#----------------------------------\n",
    "__author__=\"Muhammad Abdul-Mageed\"\n",
    "__date__ =\"11/09/2014\"\n",
    "#----------------------------------\n",
    "#!/usr/bin/python\n",
    "###################################\n",
    "import gensim, logging\n",
    "import codecs\n",
    "import re\n",
    "import sys\n",
    "import glob\n",
    "from collections import defaultdict\n",
    "import fileinput\n",
    "import json\n",
    "import csv\n",
    "import sys, os\n",
    "import urllib\n",
    "import urlparse\n",
    "import time\n",
    "import random\n",
    "########################\n",
    "\n",
    "logging.basicConfig(format='%(asctime)s : %(levelname)s : %(message)s', level=logging.INFO)\n",
    "# This is how to train word2vec with gensim:\n",
    "#-------------------------------------------\n",
    "# sentences=gensim.models.word2vec.Text8Corpus('path to text file')\n",
    "# model = gensim.models.Word2Vec()\n",
    "# model.build_vocab(sentences)\n",
    "# model = gensim.models.Word2Vec(sentences,min_count=10)\n",
    "# model.save('./fileNameToSaveModel')\n",
    "model = gensim.models.Word2Vec.load('raw_wiki_word2vec.model') #\"raw_wiki_word2vec.model\"\n",
    "\n",
    "#-------------------------------------------"
   ]
  },
  {
   "cell_type": "code",
   "execution_count": 11,
   "metadata": {
    "collapsed": false
   },
   "outputs": [
    {
     "name": "stdout",
     "output_type": "stream",
     "text": [
      "<type 'dict'>\n",
      "1471074\n",
      "(300,)\n",
      "[ -2.41346493e-01   1.41577765e-01   1.93469778e-01   2.43044943e-02\n",
      "  -2.77245253e-01  -4.04351175e-01   1.61023527e-01   1.82909280e-01\n",
      "   9.85689759e-02   1.28491372e-01   2.62940764e-01   1.49031997e-01\n",
      "  -3.42757970e-01   7.62015730e-02  -4.24858294e-02   6.45219237e-02\n",
      "   4.92826283e-01   5.40298522e-01  -1.04112007e-01  -2.84948528e-01\n",
      "   2.50470191e-01   9.26547125e-02   1.92363992e-01   2.89426111e-02\n",
      "   1.34189770e-01   2.84615487e-01   2.33699337e-01   1.33233771e-01\n",
      "   1.66458875e-01   6.61841854e-02   1.53949382e-02  -2.90525287e-01\n",
      "   3.26740183e-02  -4.49759103e-02   8.64607189e-03   1.42896980e-01\n",
      "   2.10617080e-01   4.14044969e-02  -1.30539298e-01   2.27430135e-01\n",
      "  -1.98736668e-01  -3.22374642e-01  -1.64660752e-01  -3.10215920e-01\n",
      "  -6.02937080e-02   5.70201967e-03  -3.68248284e-01   6.01780750e-02\n",
      "  -7.59562179e-02   9.34898630e-02  -4.76821363e-02   1.34144112e-01\n",
      "   2.19933614e-01   1.16929948e-01  -9.38174427e-02   2.58044809e-01\n",
      "   1.22439735e-01  -3.21674615e-01  -3.44009250e-02   9.32226926e-02\n",
      "   6.75074831e-02   8.06969255e-02  -3.00121129e-01   2.37120688e-01\n",
      "   5.71628630e-01  -2.14842454e-01  -3.85306984e-01  -3.20454597e-01\n",
      "   2.62354426e-02  -1.16933480e-01   1.45804510e-02   1.18820921e-01\n",
      "   4.46414873e-02   1.53656423e-01   5.84979989e-02  -6.87237754e-02\n",
      "  -1.55772611e-01  -3.94168615e-01   3.38946353e-03  -1.87065974e-01\n",
      "  -1.26722857e-01   3.11377421e-02  -9.26381350e-03  -4.66000587e-02\n",
      "  -1.22145317e-01  -1.27136670e-02   2.53024220e-01   6.97222166e-03\n",
      "   7.64814615e-02   9.86138582e-02   4.04701263e-01   1.49935000e-02\n",
      "  -1.10840231e-01   1.46646099e-03  -4.51085746e-01  -1.75992489e-01\n",
      "   1.50124311e-01   2.25350454e-01   2.53658816e-02  -3.13949645e-01\n",
      "   4.93866466e-02  -1.64141446e-01   5.92237264e-02  -5.61297387e-02\n",
      "   1.09237663e-01   1.59629792e-01  -8.94818529e-02   2.18366101e-01\n",
      "   7.29358569e-02  -2.33442172e-01   7.56440088e-02  -2.41323233e-01\n",
      "  -3.05694580e-01  -9.87932682e-02   2.15832312e-02  -3.84072691e-01\n",
      "  -1.94269046e-01   1.04010217e-02   2.35640347e-01  -8.63061666e-01\n",
      "  -2.64825195e-01  -1.80519089e-01   2.37278372e-01  -2.63678879e-01\n",
      "   5.36286086e-03  -2.03876421e-01   2.49213383e-01   1.74193066e-02\n",
      "   1.06572844e-01   1.05938599e-01   5.27736962e-01   1.19047895e-01\n",
      "  -3.84822458e-01  -2.24390641e-01  -1.07007222e-02  -3.69546533e-01\n",
      "  -7.99230561e-02  -6.08488798e-01  -6.76530749e-02  -1.46998584e-01\n",
      "   1.72161683e-01   6.38920516e-02   1.75285395e-02  -1.95930660e-01\n",
      "   5.71211092e-02   8.42915922e-02  -7.92929456e-02   6.28713891e-02\n",
      "  -1.73877016e-01   4.27886516e-01   5.97748160e-02   1.74854636e-01\n",
      "  -2.05837667e-01   5.32391369e-02  -2.31428966e-01  -2.99975693e-01\n",
      "  -1.61637560e-01   1.04412772e-01   2.09702075e-01   9.17879939e-02\n",
      "   1.13567896e-02  -1.50553018e-01   3.78181785e-02   1.26644209e-01\n",
      "   9.77795199e-03   2.03656375e-01  -3.01707685e-01  -3.19500864e-02\n",
      "   1.86340421e-01   2.75966734e-01  -2.65640348e-01   9.00105834e-02\n",
      "  -2.63589650e-01   9.01496485e-02   2.04544112e-01   1.85346119e-02\n",
      "   1.92142889e-01   7.34746829e-02  -7.71979019e-02   4.51772213e-02\n",
      "   1.50292618e-02   1.73091248e-01  -2.43819486e-02  -1.49462253e-01\n",
      "  -1.01294182e-01   1.49449185e-01  -9.35889632e-02  -3.10010295e-02\n",
      "  -1.66322947e-01   1.84295833e-01  -6.44289851e-01   2.58947521e-01\n",
      "   1.17489509e-01   2.37715915e-01   4.20297049e-02   1.66892618e-01\n",
      "   2.01366954e-02  -2.13247940e-01  -8.64622369e-02  -2.45199591e-01\n",
      "   4.37754124e-01   8.53779763e-02   2.81500220e-01  -3.15231122e-02\n",
      "  -1.76815107e-01   4.65548784e-02  -2.79357433e-02   2.51916312e-02\n",
      "  -2.95438077e-02   1.06605515e-01   1.29417405e-02  -3.58928472e-01\n",
      "   2.43485242e-01   6.03923462e-02  -1.62496101e-02   6.89331293e-02\n",
      "   4.53085721e-01   8.28558877e-02   1.65204898e-01   6.33599386e-02\n",
      "   1.22811869e-01  -1.91857308e-01  -5.75717874e-02   2.05966398e-01\n",
      "   6.76149651e-02  -1.73434079e-01  -2.79346764e-01  -5.18943787e-01\n",
      "  -6.71304157e-03   2.46543422e-01  -1.72104880e-01   3.41763683e-02\n",
      "   2.12015453e-04   1.23967817e-02  -5.63776493e-02  -2.10666824e-02\n",
      "   6.33103028e-02   3.24229211e-01  -1.41523695e-02  -2.17178464e-01\n",
      "   5.64267486e-02  -1.92608252e-01   1.06860504e-01   8.19398612e-02\n",
      "  -2.46867776e-01   1.90232649e-01   1.81494191e-01   1.92984134e-01\n",
      "  -8.16955343e-02  -8.18191916e-02   1.75066590e-01   2.08056226e-01\n",
      "   2.40951836e-01   3.72628242e-01   3.82247195e-02  -2.41612256e-01\n",
      "  -1.60255760e-01   3.04550409e-01   3.11670620e-02   1.80127248e-02\n",
      "   2.20269769e-01   2.13207811e-01  -1.81990802e-01   2.09273845e-01\n",
      "  -1.20369405e-01  -6.25644326e-02  -8.20641890e-02   3.42069477e-01\n",
      "  -8.49348260e-04  -3.61385345e-01   8.11910778e-02   2.19458625e-01\n",
      "  -2.52122711e-02   2.55364865e-01   2.74491251e-01   2.80331701e-01\n",
      "   6.59956038e-02  -2.94182777e-01  -1.57100052e-01  -6.89134076e-02\n",
      "   1.88502111e-02   2.64898807e-01   4.49227430e-02   1.02452978e-01\n",
      "  -2.02547689e-03  -1.53060615e-01  -6.41014874e-02   3.10534567e-01\n",
      "   5.19859567e-02  -4.68257209e-03   2.26760834e-01  -2.45388493e-01\n",
      "   1.01214156e-01  -9.77097899e-02  -9.49654207e-02  -1.63758978e-01\n",
      "  -5.53285815e-02   2.45536845e-02  -1.09064318e-01   2.11672843e-01]\n"
     ]
    }
   ],
   "source": [
    "# The vocabulary is a dictionary:\n",
    "print type(model.vocab)\n",
    "print len(model.vocab)\n",
    "# Each word is a numpy array with 300 dimensions\n",
    "print model[\"cup\"].shape\n",
    "print model[\"cup\"]"
   ]
  },
  {
   "cell_type": "code",
   "execution_count": 10,
   "metadata": {
    "collapsed": false
   },
   "outputs": [
    {
     "name": "stdout",
     "output_type": "stream",
     "text": [
      "[-0.24134649  0.14157777  0.19346978  0.02430449 -0.27724525 -0.40435117\n",
      "  0.16102353  0.18290928  0.09856898  0.12849137]\n"
     ]
    }
   ],
   "source": [
    "print model[\"cup\"][:10]"
   ]
  },
  {
   "cell_type": "code",
   "execution_count": 11,
   "metadata": {
    "collapsed": false
   },
   "outputs": [
    {
     "name": "stdout",
     "output_type": "stream",
     "text": [
      "[('queen', 0.706947922706604), ('monarch', 0.6829145550727844), ('ruler', 0.6455122232437134), ('kings', 0.6353834867477417), ('princess', 0.6282912492752075), ('regent', 0.6100696325302124), ('prince', 0.6036399006843567), ('pharaoh', 0.5904626846313477), ('throne', 0.5874890089035034), ('duke', 0.5844061970710754)]\n",
      "\n",
      "cereal\n"
     ]
    }
   ],
   "source": [
    "# Several functions implemented based on vector operations:\n",
    "# Similarity\n",
    "print model.most_similar(positive=['woman', 'king'], negative=['man'])\n",
    "# Dissimilarity\n",
    "print \"\\n\", model.doesnt_match(\"breakfast cereal dinner lunch\".split())\n"
   ]
  },
  {
   "cell_type": "code",
   "execution_count": 12,
   "metadata": {
    "collapsed": false
   },
   "outputs": [
    {
     "name": "stdout",
     "output_type": "stream",
     "text": [
      "0.808652552286\n"
     ]
    }
   ],
   "source": [
    "# You can get the (here cosine) similarity value between the two words (calculated based on vector operations, too)\n",
    "print model.similarity('woman', 'man')"
   ]
  },
  {
   "cell_type": "code",
   "execution_count": 23,
   "metadata": {
    "collapsed": false
   },
   "outputs": [
    {
     "data": {
      "text/plain": [
       "[('Winnipeg', 0.7221993803977966),\n",
       " ('Montreal', 0.710684597492218),\n",
       " ('Ottawa', 0.6856184601783752),\n",
       " ('Edmonton', 0.6721822023391724),\n",
       " ('Vancouver', 0.6703702211380005),\n",
       " ('Calgary', 0.6620099544525146),\n",
       " ('Mississauga', 0.6473709344863892),\n",
       " ('Oshawa', 0.6101559400558472),\n",
       " ('Brantford', 0.5927374362945557),\n",
       " ('Guelph', 0.5864905118942261)]"
      ]
     },
     "execution_count": 23,
     "metadata": {},
     "output_type": "execute_result"
    }
   ],
   "source": [
    "model.most_similar(\"Toronto\", topn=10)"
   ]
  },
  {
   "cell_type": "code",
   "execution_count": 48,
   "metadata": {
    "collapsed": false
   },
   "outputs": [
    {
     "data": {
      "text/plain": [
       "[('Bangalore', 0.8447854518890381),\n",
       " ('Pune', 0.8365770578384399),\n",
       " ('Mumbai', 0.8131051659584045),\n",
       " ('Ahmedabad', 0.8083975315093994),\n",
       " ('Chandigarh', 0.7975865602493286),\n",
       " ('Jaipur', 0.7949010133743286),\n",
       " ('Lucknow', 0.7924517393112183),\n",
       " ('Gujarat', 0.780589759349823),\n",
       " ('Maharashtra', 0.778412938117981),\n",
       " ('Chennai', 0.7759926319122314)]"
      ]
     },
     "execution_count": 48,
     "metadata": {},
     "output_type": "execute_result"
    }
   ],
   "source": [
    "model.most_similar(\"Hyderabad\", topn=10)"
   ]
  },
  {
   "cell_type": "code",
   "execution_count": 22,
   "metadata": {
    "collapsed": false
   },
   "outputs": [
    {
     "data": {
      "text/plain": [
       "[('Philadelphia', 0.6693728566169739),\n",
       " ('Chicago', 0.6588309407234192),\n",
       " ('Pittsburgh', 0.56768798828125),\n",
       " ('Baltimore', 0.54915452003479),\n",
       " ('Rochester', 0.5476296544075012),\n",
       " ('Pawtucket', 0.5291823148727417),\n",
       " ('Detroit', 0.5270549654960632),\n",
       " ('Binghamton', 0.5258842706680298),\n",
       " ('Brooklyn', 0.5211149454116821),\n",
       " ('Cincinnati', 0.514124870300293)]"
      ]
     },
     "execution_count": 22,
     "metadata": {},
     "output_type": "execute_result"
    }
   ],
   "source": [
    "model.most_similar(\"Boston\", topn=10)"
   ]
  },
  {
   "cell_type": "code",
   "execution_count": 17,
   "metadata": {
    "collapsed": false
   },
   "outputs": [
    {
     "data": {
      "text/plain": [
       "[('Beirut', 0.7205173969268799),\n",
       " ('Baghdad', 0.6971539258956909),\n",
       " ('Damascus', 0.6886258125305176),\n",
       " ('Istanbul', 0.6260120868682861),\n",
       " ('Khartoum', 0.6244688630104065),\n",
       " ('Mansoura', 0.6233665347099304),\n",
       " ('Riyadh', 0.6098998785018921),\n",
       " ('Aleppo', 0.6091768145561218),\n",
       " ('Helwan', 0.5854959487915039),\n",
       " ('Tunis', 0.5809907913208008)]"
      ]
     },
     "execution_count": 17,
     "metadata": {},
     "output_type": "execute_result"
    }
   ],
   "source": [
    "model.most_similar(\"Cairo\", topn=10)"
   ]
  },
  {
   "cell_type": "code",
   "execution_count": 18,
   "metadata": {
    "collapsed": false
   },
   "outputs": [
    {
     "data": {
      "text/plain": [
       "[('Marriott', 0.5063644051551819),\n",
       " ('Ritz-Carlton', 0.4937186539173126),\n",
       " ('Trump-owned', 0.48400670289993286),\n",
       " ('Mar-a-Lago', 0.4807872772216797),\n",
       " ('Resorts', 0.4664505124092102),\n",
       " ('Sheraton', 0.46252116560935974),\n",
       " ('Hotel', 0.44875073432922363),\n",
       " ('Westin', 0.44451674818992615),\n",
       " ('Deskey', 0.44194382429122925),\n",
       " ('Hotels', 0.4390174150466919)]"
      ]
     },
     "execution_count": 18,
     "metadata": {},
     "output_type": "execute_result"
    }
   ],
   "source": [
    "model.most_similar(\"Trump\", topn=10)"
   ]
  },
  {
   "cell_type": "code",
   "execution_count": 19,
   "metadata": {
    "collapsed": false
   },
   "outputs": [
    {
     "data": {
      "text/plain": [
       "[('Rodham', 0.8053393363952637),\n",
       " ('Clinton', 0.5578000545501709),\n",
       " ('Senator', 0.536757230758667),\n",
       " ('then-Senator', 0.5305087566375732),\n",
       " ('Sen.', 0.5189273357391357),\n",
       " ('Then-U.S.', 0.5154198408126831),\n",
       " ('Obama', 0.5066973567008972),\n",
       " ('Heylin', 0.49131348729133606),\n",
       " ('Barack', 0.49038058519363403),\n",
       " ('DeWitt', 0.4870748519897461)]"
      ]
     },
     "execution_count": 19,
     "metadata": {},
     "output_type": "execute_result"
    }
   ],
   "source": [
    "model.most_similar(\"Hillary\", topn=10)"
   ]
  },
  {
   "cell_type": "code",
   "execution_count": 26,
   "metadata": {
    "collapsed": false
   },
   "outputs": [
    {
     "data": {
      "text/plain": [
       "[('Biryani', 0.7640509605407715),\n",
       " ('samosas', 0.7417850494384766),\n",
       " ('biriyani', 0.7365614175796509),\n",
       " ('roti', 0.7248775959014893),\n",
       " ('satay', 0.7066627740859985),\n",
       " ('kebabs', 0.7063789963722229),\n",
       " ('naan', 0.7063245177268982),\n",
       " ('tandoori', 0.7062790393829346),\n",
       " ('curries', 0.702177882194519),\n",
       " ('halwa', 0.7018231153488159)]"
      ]
     },
     "execution_count": 26,
     "metadata": {},
     "output_type": "execute_result"
    }
   ],
   "source": [
    "model.most_similar(\"biryani\", topn=10)"
   ]
  }
 ],
 "metadata": {
  "kernelspec": {
   "display_name": "Python 2",
   "language": "python",
   "name": "python2"
  },
  "language_info": {
   "codemirror_mode": {
    "name": "ipython",
    "version": 2
   },
   "file_extension": ".py",
   "mimetype": "text/x-python",
   "name": "python",
   "nbconvert_exporter": "python",
   "pygments_lexer": "ipython2",
   "version": "2.7.11"
  }
 },
 "nbformat": 4,
 "nbformat_minor": 0
}
